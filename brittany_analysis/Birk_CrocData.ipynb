{
 "cells": [
  {
   "cell_type": "code",
   "execution_count": 7,
   "id": "678189a9",
   "metadata": {},
   "outputs": [],
   "source": [
    "#Dependencies\n",
    "import pandas as pd\n",
    "import hvplot.pandas\n",
    "import numpy as np\n",
    "import requests \n",
    "import json"
   ]
  },
  {
   "cell_type": "code",
   "execution_count": 8,
   "id": "d8efbf81",
   "metadata": {},
   "outputs": [],
   "source": [
    "#Import the API Key\n",
    "from config import google_api"
   ]
  },
  {
   "cell_type": "code",
   "execution_count": 9,
   "id": "b52340f2",
   "metadata": {},
   "outputs": [
    {
     "data": {
      "text/plain": [
       "'https://serpapi.com/search.json?engine=google_shopping&q=birkenstocks&location=United+States&google_domain=google.com&gl=us&hl=en&api_key=5af04470450e7582f91c9c88798249bc20a7c9988cdd8c672d3bfa5c4ff38b29'"
      ]
     },
     "execution_count": 9,
     "metadata": {},
     "output_type": "execute_result"
    }
   ],
   "source": [
    "#Shopping Birks\n",
    "url_birk=\"https://serpapi.com/search.json?engine=google_shopping&q=birkenstocks&location=United+States&google_domain=google.com&gl=us&hl=en&api_key=5af04470450e7582f91c9c88798249bc20a7c9988cdd8c672d3bfa5c4ff38b29\"\n",
    "url_birk"
   ]
  },
  {
   "cell_type": "code",
   "execution_count": 10,
   "id": "53fca250",
   "metadata": {},
   "outputs": [
    {
     "data": {
      "text/plain": [
       "'https://serpapi.com/search.json?engine=google_shopping&q=crocs&location=United+States&google_domain=google.com&gl=us&hl=en&api_key=5af04470450e7582f91c9c88798249bc20a7c9988cdd8c672d3bfa5c4ff38b29'"
      ]
     },
     "execution_count": 10,
     "metadata": {},
     "output_type": "execute_result"
    }
   ],
   "source": [
    "#Shopping Crocs \n",
    "url_croc=\"https://serpapi.com/search.json?engine=google_shopping&q=crocs&location=United+States&google_domain=google.com&gl=us&hl=en&api_key=5af04470450e7582f91c9c88798249bc20a7c9988cdd8c672d3bfa5c4ff38b29\"\n",
    "url_croc"
   ]
  },
  {
   "cell_type": "code",
   "execution_count": null,
   "id": "34cb5503",
   "metadata": {},
   "outputs": [],
   "source": []
  },
  {
   "cell_type": "code",
   "execution_count": null,
   "id": "c9c41114",
   "metadata": {},
   "outputs": [],
   "source": []
  },
  {
   "cell_type": "code",
   "execution_count": null,
   "id": "cdf29268",
   "metadata": {},
   "outputs": [],
   "source": []
  },
  {
   "cell_type": "code",
   "execution_count": null,
   "id": "15e13980",
   "metadata": {},
   "outputs": [],
   "source": []
  }
 ],
 "metadata": {
  "kernelspec": {
   "display_name": "Python 3 (ipykernel)",
   "language": "python",
   "name": "python3"
  },
  "language_info": {
   "codemirror_mode": {
    "name": "ipython",
    "version": 3
   },
   "file_extension": ".py",
   "mimetype": "text/x-python",
   "name": "python",
   "nbconvert_exporter": "python",
   "pygments_lexer": "ipython3",
   "version": "3.9.13"
  }
 },
 "nbformat": 4,
 "nbformat_minor": 5
}
