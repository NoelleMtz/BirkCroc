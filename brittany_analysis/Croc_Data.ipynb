{
 "cells": [
  {
   "cell_type": "code",
   "execution_count": null,
   "id": "c7063984",
   "metadata": {},
   "outputs": [],
   "source": [
    "#Dependencies\n",
    "import pandas as pd\n",
    "import hvplot.pandas\n",
    "import numpy as np\n",
    "import requests \n",
    "import json"
   ]
  },
  {
   "cell_type": "code",
   "execution_count": null,
   "id": "5a518a82",
   "metadata": {},
   "outputs": [],
   "source": [
    "#Import the API Key\n",
    "from config import google_api"
   ]
  },
  {
   "cell_type": "code",
   "execution_count": 3,
   "id": "795660df",
   "metadata": {},
   "outputs": [
    {
     "data": {
      "text/plain": [
       "'https://serpapi.com/search.json?engine=google_shopping&q=crocs&location=United+States&google_domain=google.com&gl=us&hl=en&tbs=tbs&api_key=5af04470450e7582f91c9c88798249bc20a7c9988cdd8c672d3bfa5c4ff38b29'"
      ]
     },
     "execution_count": 3,
     "metadata": {},
     "output_type": "execute_result"
    }
   ],
   "source": [
    "#Shopping Crocs \n",
    "url_croc=\"https://serpapi.com/search.json?engine=google_shopping&q=crocs&location=United+States&google_domain=google.com&gl=us&hl=en&tbs=tbs&api_key=5af04470450e7582f91c9c88798249bc20a7c9988cdd8c672d3bfa5c4ff38b29\"\n",
    "url_croc"
   ]
  },
  {
   "cell_type": "code",
   "execution_count": null,
   "id": "c7ff2b75",
   "metadata": {},
   "outputs": [],
   "source": [
    "#set params dic\n",
    "\n",
    "\n",
    "params= { \n",
    "    \"filter\":reviews,\n",
    "    \"limit\":limit,\n",
    "    \"bias\":bias,\n",
    "    \"apiKey\":google_api\n",
    "}"
   ]
  }
 ],
 "metadata": {
  "kernelspec": {
   "display_name": "Python 3 (ipykernel)",
   "language": "python",
   "name": "python3"
  },
  "language_info": {
   "codemirror_mode": {
    "name": "ipython",
    "version": 3
   },
   "file_extension": ".py",
   "mimetype": "text/x-python",
   "name": "python",
   "nbconvert_exporter": "python",
   "pygments_lexer": "ipython3",
   "version": "3.9.13"
  }
 },
 "nbformat": 4,
 "nbformat_minor": 5
}
