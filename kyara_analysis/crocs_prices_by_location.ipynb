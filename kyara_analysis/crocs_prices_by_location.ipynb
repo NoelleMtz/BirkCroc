{
 "cells": [
  {
   "cell_type": "code",
   "execution_count": 2,
   "id": "bffe3796",
   "metadata": {},
   "outputs": [],
   "source": [
    "# imports\n",
    "import requests\n",
    "import pandas as pd\n",
    "import json\n",
    "import csv\n"
   ]
  },
  {
   "cell_type": "code",
   "execution_count": null,
   "id": "6fa6e2ae",
   "metadata": {},
   "outputs": [],
   "source": [
    "# read in cities \n",
    "# with open(<filename>, 'r') as fr: \n",
    "with open('Census_City100-Copy1.csv', 'r') as fr:\n",
    "\n"
   ]
  },
  {
   "cell_type": "code",
   "execution_count": null,
   "id": "7005f916",
   "metadata": {},
   "outputs": [],
   "source": [
    "# make api requests & get data"
   ]
  },
  {
   "cell_type": "code",
   "execution_count": null,
   "id": "b7532819",
   "metadata": {},
   "outputs": [],
   "source": [
    "# pull out data I want "
   ]
  },
  {
   "cell_type": "code",
   "execution_count": null,
   "id": "079e4d11",
   "metadata": {},
   "outputs": [],
   "source": [
    "# make pandas dataframe"
   ]
  },
  {
   "cell_type": "code",
   "execution_count": null,
   "id": "79bed770",
   "metadata": {},
   "outputs": [],
   "source": [
    "# potentially more data cleanup "
   ]
  },
  {
   "cell_type": "code",
   "execution_count": null,
   "id": "136dc9ba",
   "metadata": {},
   "outputs": [],
   "source": [
    "# plotting data"
   ]
  }
 ],
 "metadata": {
  "kernelspec": {
   "display_name": "Python 3 (ipykernel)",
   "language": "python",
   "name": "python3"
  },
  "language_info": {
   "codemirror_mode": {
    "name": "ipython",
    "version": 3
   },
   "file_extension": ".py",
   "mimetype": "text/x-python",
   "name": "python",
   "nbconvert_exporter": "python",
   "pygments_lexer": "ipython3",
   "version": "3.9.13"
  }
 },
 "nbformat": 4,
 "nbformat_minor": 5
}
