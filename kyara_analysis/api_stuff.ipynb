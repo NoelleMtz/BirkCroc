{
 "cells": [
  {
   "cell_type": "code",
   "execution_count": 9,
   "metadata": {},
   "outputs": [],
   "source": [
    "import requests\n",
    "import pandas as pd\n",
    "import json\n",
    "from serpapi import GoogleSearch\n",
    "\n"
   ]
  },
  {
   "cell_type": "code",
   "execution_count": 16,
   "metadata": {},
   "outputs": [],
   "source": [
    "api_link = 'https://serpapi.com/google-shopping-api'\n",
    "api_link2 = 'https://serpapi.com/search'"
   ]
  },
  {
   "cell_type": "code",
   "execution_count": 17,
   "metadata": {},
   "outputs": [],
   "source": [
    "google_api_key = \"99c54208bccc2e3c22e6ca2599af8630d4c7430db69fa8035fc6c975fb9008f4\"\n",
    "# just a test to see if we can get an api request working\n",
    "params = {\"engine\": \"google_shopping\", \"q\": \"Crocs\", \"location\": \"United States\", \"api_key\": google_api_key}"
   ]
  },
  {
   "cell_type": "code",
   "execution_count": 22,
   "metadata": {},
   "outputs": [
    {
     "name": "stdout",
     "output_type": "stream",
     "text": [
      "200\n"
     ]
    }
   ],
   "source": [
    "response = requests.get(api_link2, params=params)\n",
    "print(response.status_code)\n",
    "# print(response.json())"
   ]
  },
  {
   "cell_type": "code",
   "execution_count": 29,
   "metadata": {},
   "outputs": [],
   "source": [
    "json_response = response.json()\n",
    "# print(json.dumps(json_response, indent=4, sort_keys=False))\n",
    "# worked"
   ]
  },
  {
   "cell_type": "code",
   "execution_count": 31,
   "metadata": {},
   "outputs": [],
   "source": [
    "top_cities = [\"New York, NY\", \"Los Angeles, CA\", \"Chicago, IL\", \"Houston, TX\", \"Phoenix, AZ\", \"Philadelphia, PA\", \"San Antonio, TX\", \"San Diego, CA\", \"Dallas, TX\", \"San Jose, CA\"]"
   ]
  },
  {
   "cell_type": "code",
   "execution_count": 33,
   "metadata": {},
   "outputs": [
    {
     "name": "stdout",
     "output_type": "stream",
     "text": [
      "[{'engine': 'google_shopping', 'q': 'Crocs', 'location': 'New York, NY', 'api_key': '99c54208bccc2e3c22e6ca2599af8630d4c7430db69fa8035fc6c975fb9008f4'}, {'engine': 'google_shopping', 'q': 'Crocs', 'location': 'Los Angeles, CA', 'api_key': '99c54208bccc2e3c22e6ca2599af8630d4c7430db69fa8035fc6c975fb9008f4'}, {'engine': 'google_shopping', 'q': 'Crocs', 'location': 'Chicago, IL', 'api_key': '99c54208bccc2e3c22e6ca2599af8630d4c7430db69fa8035fc6c975fb9008f4'}, {'engine': 'google_shopping', 'q': 'Crocs', 'location': 'Houston, TX', 'api_key': '99c54208bccc2e3c22e6ca2599af8630d4c7430db69fa8035fc6c975fb9008f4'}, {'engine': 'google_shopping', 'q': 'Crocs', 'location': 'Phoenix, AZ', 'api_key': '99c54208bccc2e3c22e6ca2599af8630d4c7430db69fa8035fc6c975fb9008f4'}, {'engine': 'google_shopping', 'q': 'Crocs', 'location': 'Philadelphia, PA', 'api_key': '99c54208bccc2e3c22e6ca2599af8630d4c7430db69fa8035fc6c975fb9008f4'}, {'engine': 'google_shopping', 'q': 'Crocs', 'location': 'San Antonio, TX', 'api_key': '99c54208bccc2e3c22e6ca2599af8630d4c7430db69fa8035fc6c975fb9008f4'}, {'engine': 'google_shopping', 'q': 'Crocs', 'location': 'San Diego, CA', 'api_key': '99c54208bccc2e3c22e6ca2599af8630d4c7430db69fa8035fc6c975fb9008f4'}, {'engine': 'google_shopping', 'q': 'Crocs', 'location': 'Dallas, TX', 'api_key': '99c54208bccc2e3c22e6ca2599af8630d4c7430db69fa8035fc6c975fb9008f4'}, {'engine': 'google_shopping', 'q': 'Crocs', 'location': 'San Jose, CA', 'api_key': '99c54208bccc2e3c22e6ca2599af8630d4c7430db69fa8035fc6c975fb9008f4'}]\n"
     ]
    }
   ],
   "source": [
    "# make a list of params for top cities\n",
    "top_cities_params = []\n",
    "for city in top_cities:\n",
    "    tmp = {\"engine\": \"google_shopping\", \"q\": \"Crocs\", \"location\": city, \"api_key\": google_api_key}\n",
    "    top_cities_params.append(tmp)\n",
    "print(top_cities_params)"
   ]
  },
  {
   "cell_type": "code",
   "execution_count": 36,
   "metadata": {},
   "outputs": [
    {
     "name": "stdout",
     "output_type": "stream",
     "text": [
      "<Response [200]>\n",
      "<Response [200]>\n",
      "<Response [200]>\n",
      "<Response [200]>\n",
      "<Response [200]>\n",
      "<Response [200]>\n",
      "<Response [200]>\n",
      "<Response [200]>\n",
      "<Response [200]>\n",
      "<Response [200]>\n",
      "10\n"
     ]
    }
   ],
   "source": [
    "# get the first two repsonses\n",
    "res_list = []\n",
    "for param in top_cities_params:\n",
    "    tmp_res = requests.get(api_link2, params=param)\n",
    "    print(tmp_res)\n",
    "    res_list.append(tmp_res.json())\n",
    "\n",
    "print(len(res_list))\n"
   ]
  },
  {
   "cell_type": "code",
   "execution_count": 40,
   "metadata": {},
   "outputs": [],
   "source": [
    "# write res_list to a file so we don't lose it\n",
    "with open('crocs_city_searches.txt', 'w') as fw:\n",
    "    for item in res_list:\n",
    "        fw.write(str(item))"
   ]
  },
  {
   "cell_type": "code",
   "execution_count": 43,
   "metadata": {},
   "outputs": [
    {
     "name": "stdout",
     "output_type": "stream",
     "text": [
      "[{'engine': 'google_shopping', 'q': 'Birkenstocks', 'location': 'New York, NY', 'api_key': '99c54208bccc2e3c22e6ca2599af8630d4c7430db69fa8035fc6c975fb9008f4'}, {'engine': 'google_shopping', 'q': 'Birkenstocks', 'location': 'Los Angeles, CA', 'api_key': '99c54208bccc2e3c22e6ca2599af8630d4c7430db69fa8035fc6c975fb9008f4'}, {'engine': 'google_shopping', 'q': 'Birkenstocks', 'location': 'Chicago, IL', 'api_key': '99c54208bccc2e3c22e6ca2599af8630d4c7430db69fa8035fc6c975fb9008f4'}, {'engine': 'google_shopping', 'q': 'Birkenstocks', 'location': 'Houston, TX', 'api_key': '99c54208bccc2e3c22e6ca2599af8630d4c7430db69fa8035fc6c975fb9008f4'}, {'engine': 'google_shopping', 'q': 'Birkenstocks', 'location': 'Phoenix, AZ', 'api_key': '99c54208bccc2e3c22e6ca2599af8630d4c7430db69fa8035fc6c975fb9008f4'}, {'engine': 'google_shopping', 'q': 'Birkenstocks', 'location': 'Philadelphia, PA', 'api_key': '99c54208bccc2e3c22e6ca2599af8630d4c7430db69fa8035fc6c975fb9008f4'}, {'engine': 'google_shopping', 'q': 'Birkenstocks', 'location': 'San Antonio, TX', 'api_key': '99c54208bccc2e3c22e6ca2599af8630d4c7430db69fa8035fc6c975fb9008f4'}, {'engine': 'google_shopping', 'q': 'Birkenstocks', 'location': 'San Diego, CA', 'api_key': '99c54208bccc2e3c22e6ca2599af8630d4c7430db69fa8035fc6c975fb9008f4'}, {'engine': 'google_shopping', 'q': 'Birkenstocks', 'location': 'Dallas, TX', 'api_key': '99c54208bccc2e3c22e6ca2599af8630d4c7430db69fa8035fc6c975fb9008f4'}, {'engine': 'google_shopping', 'q': 'Birkenstocks', 'location': 'San Jose, CA', 'api_key': '99c54208bccc2e3c22e6ca2599af8630d4c7430db69fa8035fc6c975fb9008f4'}]\n"
     ]
    }
   ],
   "source": [
    "# now lets do birks \n",
    "birks_top_cities_params = []\n",
    "for city in top_cities:\n",
    "    tmp = {\"engine\": \"google_shopping\", \"q\": \"Birkenstocks\", \"location\": city, \"api_key\": google_api_key}\n",
    "    birks_top_cities_params.append(tmp)\n",
    "print(birks_top_cities_params)"
   ]
  },
  {
   "cell_type": "code",
   "execution_count": 44,
   "metadata": {},
   "outputs": [
    {
     "name": "stdout",
     "output_type": "stream",
     "text": [
      "<Response [200]>\n",
      "<Response [200]>\n",
      "<Response [200]>\n",
      "<Response [200]>\n",
      "<Response [200]>\n",
      "<Response [200]>\n",
      "<Response [200]>\n",
      "<Response [200]>\n",
      "<Response [200]>\n",
      "<Response [200]>\n",
      "10\n"
     ]
    }
   ],
   "source": [
    "# get the first two repsonses\n",
    "birks_res_list = []\n",
    "for birks_param in birks_top_cities_params:\n",
    "    tmp_res = requests.get(api_link2, params=birks_param)\n",
    "    print(tmp_res)\n",
    "    birks_res_list.append(tmp_res.json())\n",
    "\n",
    "print(len(birks_res_list))\n"
   ]
  },
  {
   "cell_type": "code",
   "execution_count": 45,
   "metadata": {},
   "outputs": [],
   "source": [
    "# write birks_res_list to a file so we don't lose it\n",
    "with open('birks_city_searches.txt', 'w') as fw:\n",
    "    for item in birks_res_list:\n",
    "        fw.write(str(item))"
   ]
  }
 ],
 "metadata": {
  "kernelspec": {
   "display_name": "Python 3",
   "language": "python",
   "name": "python3"
  },
  "language_info": {
   "codemirror_mode": {
    "name": "ipython",
    "version": 3
   },
   "file_extension": ".py",
   "mimetype": "text/x-python",
   "name": "python",
   "nbconvert_exporter": "python",
   "pygments_lexer": "ipython3",
   "version": "3.9.7"
  },
  "orig_nbformat": 4
 },
 "nbformat": 4,
 "nbformat_minor": 2
}
