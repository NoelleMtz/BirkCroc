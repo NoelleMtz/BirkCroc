{
 "cells": [
  {
   "cell_type": "markdown",
   "id": "1c565ac1",
   "metadata": {},
   "source": [
    "Our project's core problem is whether Crocs or Birkenstocks occupy the same customer niche in ugly yet comfortable slide-on shoes\n",
    "\n",
    "\n",
    "### Data fetching/API integration\n",
    "Weather API- https://openweathermap.org/api \n",
    "* Check for copyright protections, and make sure that the way you plan to use this dataset is within the bounds of fair use.\n",
    "* Document how you intend to use this dataset now and in the future. Find any licenses or terms of use associated with the dataset, and review them to confirm that your intended use is in compliance.\n",
    "* Investigate how the dataset was collected. Identify any indicators that the data was obtained from a source that the compilers were not authorized to access."
   ]
  },
  {
   "cell_type": "code",
   "execution_count": null,
   "id": "a23ada71",
   "metadata": {},
   "outputs": [],
   "source": []
  },
  {
   "cell_type": "markdown",
   "id": "4f09e839",
   "metadata": {},
   "source": [
    "### Does weather impact shoe trends for Birks & Crocs?"
   ]
  },
  {
   "cell_type": "code",
   "execution_count": 2,
   "id": "15461dae",
   "metadata": {},
   "outputs": [],
   "source": [
    "# Dependencies and Setup\n",
    "import matplotlib.pyplot as plt\n",
    "import pandas as pd\n",
    "import numpy as np\n",
    "import requests\n",
    "import time\n",
    "from scipy.stats import linregress\n",
    "from census import Census\n",
    "\n",
    "\n",
    "# Impor the OpenWeatherMap API key\n",
    "from api_keys import weather_api_key\n",
    "from api_keys import census_key\n",
    "\n",
    "# Import citipy to determine the cities based on latitude and longitude\n",
    "from citipy import citipy\n",
    "\n",
    "# Create an instance of the Census library\n",
    "c = Census(census_key) "
   ]
  },
  {
   "cell_type": "code",
   "execution_count": 8,
   "id": "9d0b845d",
   "metadata": {},
   "outputs": [],
   "source": [
    "# historical data- using monthly aggregated data from the hist-stats\n",
    "#history.openweathermap.org/data/2.5/aggregated/month?lat={lat}&lon={lon}&month={number of the month}\n",
    "\n",
    " # Save config information\n",
    "url = \"http://api.openweathermap.org/data/2.5/aggregated/month?\"\n",
    "month = \"1\"\n",
    "lat = \"35\"\n",
    "lon = \"139\"\n",
    "\n",
    "# Build query URL\n",
    "query_url = url + \"month=\" + month + \"&lat=\"+ lat + \"&lon=\" + lon + \"&appid=\" + weather_api_key"
   ]
  },
  {
   "cell_type": "code",
   "execution_count": 9,
   "id": "357fdb65",
   "metadata": {},
   "outputs": [
    {
     "data": {
      "text/plain": [
       "'http://api.openweathermap.org/data/2.5/aggregated/month?month=1&lat=35&lon=139&appid=4fdf3c34f5c29348468fa0c7f1fbb20c'"
      ]
     },
     "execution_count": 9,
     "metadata": {},
     "output_type": "execute_result"
    }
   ],
   "source": [
    "query_url"
   ]
  },
  {
   "cell_type": "code",
   "execution_count": 4,
   "id": "b1f3ed3d",
   "metadata": {},
   "outputs": [
    {
     "data": {
      "text/html": [
       "<div>\n",
       "<style scoped>\n",
       "    .dataframe tbody tr th:only-of-type {\n",
       "        vertical-align: middle;\n",
       "    }\n",
       "\n",
       "    .dataframe tbody tr th {\n",
       "        vertical-align: top;\n",
       "    }\n",
       "\n",
       "    .dataframe thead th {\n",
       "        text-align: right;\n",
       "    }\n",
       "</style>\n",
       "<table border=\"1\" class=\"dataframe\">\n",
       "  <thead>\n",
       "    <tr style=\"text-align: right;\">\n",
       "      <th></th>\n",
       "      <th>Rank</th>\n",
       "      <th>City</th>\n",
       "      <th>State</th>\n",
       "      <th>Population</th>\n",
       "    </tr>\n",
       "  </thead>\n",
       "  <tbody>\n",
       "    <tr>\n",
       "      <th>0</th>\n",
       "      <td>1</td>\n",
       "      <td>New York</td>\n",
       "      <td>New York</td>\n",
       "      <td>8804190</td>\n",
       "    </tr>\n",
       "    <tr>\n",
       "      <th>1</th>\n",
       "      <td>2</td>\n",
       "      <td>Los Angeles</td>\n",
       "      <td>California</td>\n",
       "      <td>3893986</td>\n",
       "    </tr>\n",
       "    <tr>\n",
       "      <th>2</th>\n",
       "      <td>3</td>\n",
       "      <td>Chicago</td>\n",
       "      <td>Illinois</td>\n",
       "      <td>2747231</td>\n",
       "    </tr>\n",
       "    <tr>\n",
       "      <th>3</th>\n",
       "      <td>4</td>\n",
       "      <td>Houston</td>\n",
       "      <td>Texas</td>\n",
       "      <td>2302792</td>\n",
       "    </tr>\n",
       "    <tr>\n",
       "      <th>4</th>\n",
       "      <td>5</td>\n",
       "      <td>Phoenix</td>\n",
       "      <td>Arizona</td>\n",
       "      <td>1607739</td>\n",
       "    </tr>\n",
       "  </tbody>\n",
       "</table>\n",
       "</div>"
      ],
      "text/plain": [
       "   Rank         City        State  Population\n",
       "0     1     New York     New York     8804190\n",
       "1     2  Los Angeles   California     3893986\n",
       "2     3      Chicago     Illinois     2747231\n",
       "3     4      Houston        Texas     2302792\n",
       "4     5      Phoenix      Arizona     1607739"
      ]
     },
     "execution_count": 4,
     "metadata": {},
     "output_type": "execute_result"
    }
   ],
   "source": [
    "# So may want to consider bounding it by the top 100 populus cities in the US or w/ pops over 400,000\n",
    "\n",
    "# Load the CSV file created in Part 1 into a Pandas DataFrame\n",
    "city_data_df = pd.read_csv(\"data/Census_City100.csv\")\n",
    "\n",
    "# Display sample data\n",
    "city_data_df.head()"
   ]
  },
  {
   "cell_type": "code",
   "execution_count": 3,
   "id": "a3c2b3b0",
   "metadata": {},
   "outputs": [
    {
     "data": {
      "text/plain": [
       "<census.core.Census at 0x21f959f35e0>"
      ]
     },
     "execution_count": 3,
     "metadata": {},
     "output_type": "execute_result"
    }
   ],
   "source": [
    "c"
   ]
  },
  {
   "cell_type": "code",
   "execution_count": null,
   "id": "6a3d76d1",
   "metadata": {},
   "outputs": [],
   "source": []
  }
 ],
 "metadata": {
  "kernelspec": {
   "display_name": "Python 3 (ipykernel)",
   "language": "python",
   "name": "python3"
  },
  "language_info": {
   "codemirror_mode": {
    "name": "ipython",
    "version": 3
   },
   "file_extension": ".py",
   "mimetype": "text/x-python",
   "name": "python",
   "nbconvert_exporter": "python",
   "pygments_lexer": "ipython3",
   "version": "3.9.13"
  }
 },
 "nbformat": 4,
 "nbformat_minor": 5
}
